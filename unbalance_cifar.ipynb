{
 "cells": [
  {
   "cell_type": "code",
   "execution_count": 9,
   "metadata": {},
   "outputs": [
    {
     "name": "stdout",
     "output_type": "stream",
     "text": [
      "Using device: cpu\n",
      "Files already downloaded and verified\n",
      "Files already downloaded and verified\n",
      "Embedding train (CIFAR10): torch.Size([4000, 2048])\n",
      "Embedding test (CIFAR10): torch.Size([4000, 2048])\n"
     ]
    }
   ],
   "source": [
    "import torch\n",
    "import torchvision.transforms as transforms\n",
    "import torchvision.datasets as datasets\n",
    "from torchvision.models import resnet50, ResNet50_Weights\n",
    "from torch.utils.data import DataLoader, Subset\n",
    "import numpy as np\n",
    "\n",
    "# Cấu hình thiết bị\n",
    "device = torch.device(\"cuda\" if torch.cuda.is_available() else \"cpu\")\n",
    "print(f\"Using device: {device}\")\n",
    "\n",
    "# Transform áp dụng cho các bộ dữ liệu\n",
    "img2vec_transforms = transforms.Compose([\n",
    "    transforms.Resize((224, 224)),  # Resize ảnh cho phù hợp với ResNet\n",
    "    transforms.ToTensor(),\n",
    "    transforms.Normalize(mean=[0.485, 0.456, 0.406], std=[0.229, 0.224, 0.225]),\n",
    "])\n",
    "\n",
    "# Chọn bộ dữ liệu (thay đổi tên dataset để sử dụng bộ khác)\n",
    "dataset_name = \"CIFAR10\"  # MNIST, STL10, SVHN, FashionMNIST, ...\n",
    "\n",
    "if dataset_name == \"CIFAR10\":\n",
    "    # Tải toàn bộ dữ liệu train, test\n",
    "    full_train_dataset = datasets.CIFAR10(\n",
    "        root='.',\n",
    "        train=True,\n",
    "        transform=img2vec_transforms,\n",
    "        download=True\n",
    "    )\n",
    "    test_dataset = datasets.CIFAR10(\n",
    "        root='.',\n",
    "        train=False,\n",
    "        transform=img2vec_transforms,\n",
    "        download=True\n",
    "    )\n",
    "\n",
    "    # --------------------- TẠO TẬP TRAIN MẤT CÂN BẰNG ---------------------\n",
    "    # Yêu cầu: lớp \"frog\" (label = 6) có số lượng gấp đôi mỗi lớp khác\n",
    "    # và tổng số mẫu ~ 4000\n",
    "\n",
    "    # Định nghĩa các tỉ lệ\n",
    "    ratio_frog = 2      # frog gấp đôi\n",
    "    ratio_other = 1     # các lớp còn lại\n",
    "    total_size = 4000   # tổng số mẫu mong muốn\n",
    "\n",
    "    # CIFAR10 có 10 lớp (0..9), trong đó frog_label = 6\n",
    "    frog_label = 6\n",
    "    num_classes = 10\n",
    "\n",
    "    # Tính toán “đơn vị tỉ lệ”\n",
    "    # Tổng tỉ lệ = ratio_frog + 9 * ratio_other = 2 + 9*1 = 11\n",
    "    total_ratio = ratio_frog + (num_classes - 1) * ratio_other  # 11\n",
    "    ratio_unit = total_size // total_ratio  # 4000 // 11 = 363\n",
    "    remainder = total_size % total_ratio    # 4000 % 11 = 7\n",
    "\n",
    "    # Số mẫu dành cho lớp frog (cộng remainder vào luôn)\n",
    "    frog_needed = ratio_frog * ratio_unit + remainder  # 2*363 + 7 = 733\n",
    "    # Số mẫu cho mỗi lớp còn lại\n",
    "    other_needed = ratio_other * ratio_unit            # 1*363 = 363\n",
    "\n",
    "    # Lấy mảng label của tập train\n",
    "    labels = np.array(full_train_dataset.targets)\n",
    "\n",
    "    # Tách chỉ số thuộc lớp frog\n",
    "    frog_indices_all = np.where(labels == frog_label)[0]\n",
    "    # Tách chỉ số của 9 lớp còn lại\n",
    "    other_indices_dict = {}  # dict để lưu lớp -> danh sách index\n",
    "    for c in range(num_classes):\n",
    "        if c != frog_label:\n",
    "            other_indices_dict[c] = np.where(labels == c)[0]\n",
    "\n",
    "    # Random (sample) 733 mẫu cho frog\n",
    "    frog_indices_chosen = np.random.choice(\n",
    "        frog_indices_all,\n",
    "        size=min(frog_needed, len(frog_indices_all)),  # an toàn nếu frog_needed > len(frog_indices_all)\n",
    "        replace=False\n",
    "    )\n",
    "\n",
    "    # Random (sample) 363 mẫu cho mỗi lớp còn lại\n",
    "    other_indices_chosen = []\n",
    "    for c in other_indices_dict:\n",
    "        chosen = np.random.choice(\n",
    "            other_indices_dict[c],\n",
    "            size=min(other_needed, len(other_indices_dict[c])),\n",
    "            replace=False\n",
    "        )\n",
    "        other_indices_chosen.extend(chosen)\n",
    "\n",
    "    # Gom tất cả index lại\n",
    "    unbalanced_indices = list(frog_indices_chosen) + list(other_indices_chosen)\n",
    "    # Tạo Subset cho train dataset\n",
    "    unbalanced_train_dataset = Subset(full_train_dataset, unbalanced_indices)\n",
    "\n",
    "else:\n",
    "    # Các dataset khác, giữ nguyên cách load (hoặc bạn có thể chỉnh sửa tùy ý)\n",
    "    if dataset_name == \"STL10\":\n",
    "        unbalanced_train_dataset = datasets.STL10(\n",
    "            root='.',\n",
    "            split='train',\n",
    "            transform=img2vec_transforms,\n",
    "            download=True\n",
    "        )\n",
    "        test_dataset = datasets.STL10(\n",
    "            root='.',\n",
    "            split='test',\n",
    "            transform=img2vec_transforms,\n",
    "            download=True\n",
    "        )\n",
    "    elif dataset_name == \"SVHN\":\n",
    "        unbalanced_train_dataset = datasets.SVHN(\n",
    "            root='.',\n",
    "            split='train',\n",
    "            transform=img2vec_transforms,\n",
    "            download=True\n",
    "        )\n",
    "        test_dataset = datasets.SVHN(\n",
    "            root='.',\n",
    "            split='test',\n",
    "            transform=img2vec_transforms,\n",
    "            download=True\n",
    "        )\n",
    "    elif dataset_name == \"FashionMNIST\":\n",
    "        grayscale_transform = transforms.Compose([\n",
    "            transforms.Grayscale(num_output_channels=3),\n",
    "            transforms.Resize((224, 224)),\n",
    "            transforms.ToTensor(),\n",
    "            transforms.Normalize(mean=[0.485, 0.456, 0.406],\n",
    "                                 std=[0.229, 0.224, 0.225]),\n",
    "        ])\n",
    "        unbalanced_train_dataset = datasets.FashionMNIST(\n",
    "            root='.',\n",
    "            train=True,\n",
    "            transform=grayscale_transform,\n",
    "            download=True\n",
    "        )\n",
    "        test_dataset = datasets.FashionMNIST(\n",
    "            root='.',\n",
    "            train=False,\n",
    "            transform=grayscale_transform,\n",
    "            download=True\n",
    "        )\n",
    "    elif dataset_name == \"MNIST\":\n",
    "        grayscale_transform = transforms.Compose([\n",
    "            transforms.Grayscale(num_output_channels=3),\n",
    "            transforms.Resize((224, 224)),\n",
    "            transforms.ToTensor(),\n",
    "            transforms.Normalize(mean=[0.485, 0.456, 0.406],\n",
    "                                 std=[0.229, 0.224, 0.225]),\n",
    "        ])\n",
    "        unbalanced_train_dataset = datasets.MNIST(\n",
    "            root='.',\n",
    "            train=True,\n",
    "            transform=grayscale_transform,\n",
    "            download=True\n",
    "        )\n",
    "        test_dataset = datasets.MNIST(\n",
    "            root='.',\n",
    "            train=False,\n",
    "            transform=grayscale_transform,\n",
    "            download=True\n",
    "        )\n",
    "    else:\n",
    "        raise ValueError(f\"Dataset {dataset_name} không được hỗ trợ.\")\n",
    "\n",
    "# ----------------------------------------------------------------------\n",
    "# Bước tiếp theo: Dataloader cho tập train \"unbalanced\" và test\n",
    "# Ở đây ta đã chủ động dàn xếp số mẫu = 4000, nên không cần cắt nữa.\n",
    "# Nếu vẫn muốn cắt tiếp, bạn có thể bật lại các dòng Subset bên dưới.\n",
    "# ----------------------------------------------------------------------\n",
    "# sample_size = 4000\n",
    "# subset_indices_train = list(range(min(sample_size, len(unbalanced_train_dataset))))\n",
    "# subset_train = Subset(unbalanced_train_dataset, subset_indices_train)\n",
    "# dataloader_train = DataLoader(subset_train, batch_size=128, shuffle=False)\n",
    "\n",
    "# Hoặc dùng luôn unbalanced_train_dataset (4000 mẫu)\n",
    "dataloader_train = DataLoader(unbalanced_train_dataset, batch_size=128, shuffle=False)\n",
    "\n",
    "# Test dataset - giữ nguyên hoặc subset 4000 cho nhanh\n",
    "subset_indices_test = list(range(min(4000, len(test_dataset))))\n",
    "subset_test = Subset(test_dataset, subset_indices_test)\n",
    "dataloader_test = DataLoader(subset_test, batch_size=128, shuffle=False)\n",
    "\n",
    "# ----------------------------------------------------------------------\n",
    "# Mô hình ResNet-50 mặc định\n",
    "# ----------------------------------------------------------------------\n",
    "resnet_default = resnet50(weights=ResNet50_Weights.DEFAULT).to(device)\n",
    "# Xóa bỏ lớp fully connected cuối (fc) để lấy embedding\n",
    "resnet_default.fc = torch.nn.Identity()\n",
    "resnet_default.eval()\n",
    "\n",
    "# Hàm tính embedding\n",
    "def get_embeddings(model, dataloader):\n",
    "    embeddings = []\n",
    "    with torch.no_grad():\n",
    "        for images, _ in dataloader:\n",
    "            images = images.to(device)\n",
    "            emb = model(images).cpu()\n",
    "            embeddings.append(emb)\n",
    "    return torch.cat(embeddings, dim=0)\n",
    "\n",
    "# Lấy embedding cho train và test\n",
    "embedding_default_train = get_embeddings(resnet_default, dataloader_train)\n",
    "embedding_default_test = get_embeddings(resnet_default, dataloader_test)\n",
    "\n",
    "print(f\"Embedding train ({dataset_name}):\", embedding_default_train.shape)\n",
    "print(f\"Embedding test ({dataset_name}):\", embedding_default_test.shape)\n"
   ]
  },
  {
   "cell_type": "code",
   "execution_count": 4,
   "metadata": {},
   "outputs": [],
   "source": [
    "import torch\n",
    "import torchvision.transforms as transforms\n",
    "import torchvision.datasets as datasets\n",
    "from torchvision.models import resnet50, ResNet50_Weights\n",
    "from torch.utils.data import DataLoader, Subset\n",
    "import numpy as np"
   ]
  },
  {
   "cell_type": "code",
   "execution_count": 1,
   "metadata": {},
   "outputs": [],
   "source": [
    "# Bật autoreload\n",
    "%load_ext autoreload\n",
    "%autoreload 2"
   ]
  },
  {
   "cell_type": "code",
   "execution_count": 10,
   "metadata": {},
   "outputs": [
    {
     "name": "stdout",
     "output_type": "stream",
     "text": [
      "torch.Size([2000, 2048])\n",
      "torch.Size([2000, 2048])\n",
      "(4000, 2048)\n"
     ]
    }
   ],
   "source": [
    "# resnet_default_test -> valid/ test\n",
    "# resnet_default_train -> train\n",
    "embedding_default_valid = embedding_default_test[2000:]\n",
    "embedding_default_test = embedding_default_test[:2000]\n",
    "embedding_default_train = embedding_default_train.numpy()\n",
    "print(embedding_default_valid.shape)\n",
    "print(embedding_default_test.shape)\n",
    "print(embedding_default_train.shape)"
   ]
  },
  {
   "cell_type": "code",
   "execution_count": 11,
   "metadata": {},
   "outputs": [],
   "source": [
    "def get_labels(dataloader):\n",
    "    labels = []\n",
    "    with torch.no_grad():\n",
    "        for _, label in dataloader:\n",
    "            labels.append(label)\n",
    "    return torch.cat(labels, dim=0)"
   ]
  },
  {
   "cell_type": "code",
   "execution_count": 12,
   "metadata": {},
   "outputs": [
    {
     "name": "stdout",
     "output_type": "stream",
     "text": [
      "torch.Size([4000])\n",
      "torch.Size([4000])\n"
     ]
    }
   ],
   "source": [
    "finetuned_label_train = get_labels(dataloader_train)\n",
    "finetuned_label_test = get_labels(dataloader_test)\n",
    "print(finetuned_label_train.shape)\n",
    "print(finetuned_label_test.shape)"
   ]
  },
  {
   "cell_type": "code",
   "execution_count": 13,
   "metadata": {},
   "outputs": [],
   "source": [
    "finetuned_label_train = finetuned_label_train.numpy()\n",
    "finetuned_label_valid = finetuned_label_test[2000:]\n",
    "finetuned_label_test = finetuned_label_test[:2000]\n",
    "finetuned_label_valid = finetuned_label_valid.numpy()\n",
    "finetuned_label_test = finetuned_label_test.numpy()"
   ]
  },
  {
   "cell_type": "code",
   "execution_count": 14,
   "metadata": {},
   "outputs": [],
   "source": [
    "# save\n",
    "import pickle\n",
    "\n",
    "with open('x_y_embedding_cifar_imbalance.pkl', 'wb') as f:\n",
    "    #pickle.dump((x_embeddings, y_labels, xt_embeddings, yt_labels), f)\n",
    "    pickle.dump((embedding_default_train, finetuned_label_train, embedding_default_valid, finetuned_label_valid, embedding_default_test, finetuned_label_test), f)"
   ]
  },
  {
   "cell_type": "code",
   "execution_count": 15,
   "metadata": {},
   "outputs": [
    {
     "name": "stdout",
     "output_type": "stream",
     "text": [
      "Training embeddings shape: (4000, 2048)\n",
      "Training labels shape: (4000,)\n",
      "Validation embeddings shape: torch.Size([2000, 2048])\n",
      "Validation labels shape: (2000,)\n"
     ]
    }
   ],
   "source": [
    "### Load x_y_embedding_data\n",
    "import pickle\n",
    "with open('x_y_embedding_cifar_imbalance.pkl', 'rb') as f:\n",
    "    #x_embeddings, y_labels, xt_embeddings, yt_labels = pickle.load(f)\n",
    "    embedding_default_train, finetuned_label_train, embedding_default_valid, finetuned_label_valid, embedding_default_test, finetuned_label_test = pickle.load(f)\n",
    "x_embeddings = embedding_default_train\n",
    "y_labels = finetuned_label_train\n",
    "xt_embeddings = embedding_default_test\n",
    "yt_labels = finetuned_label_test\n",
    "print(\"Training embeddings shape:\", x_embeddings.shape)\n",
    "print(\"Training labels shape:\", y_labels.shape)\n",
    "print(\"Validation embeddings shape:\", xt_embeddings.shape)\n",
    "print(\"Validation labels shape:\", yt_labels.shape)"
   ]
  },
  {
   "cell_type": "code",
   "execution_count": 16,
   "metadata": {},
   "outputs": [
    {
     "name": "stdout",
     "output_type": "stream",
     "text": [
      "Accuracy: 0.8868332874787266\n"
     ]
    }
   ],
   "source": [
    "from machine_learning_model import LogisticRegression\n",
    "from nosify import mix_label\n",
    "\n",
    "# train model logistic regression\n",
    "input_dim = x_embeddings.shape[1]\n",
    "num_classes = len(np.unique(y_labels))\n",
    "model = LogisticRegression(input_dim, num_classes)\n",
    "model.fit(x_embeddings, y_labels, epochs= 1000, lr = 0.1)\n",
    "# predict\n",
    "y_pred = model.predict(xt_embeddings)\n",
    "# evaluate\n",
    "from sklearn.metrics import f1_score, accuracy_score\n",
    "accuracy = f1_score(yt_labels, y_pred, average='weighted')\n",
    "print(\"Accuracy:\", accuracy)"
   ]
  },
  {
   "cell_type": "code",
   "execution_count": 18,
   "metadata": {},
   "outputs": [
    {
     "name": "stdout",
     "output_type": "stream",
     "text": [
      "Running evaluator: KNNEvaluator0\n"
     ]
    },
    {
     "name": "stderr",
     "output_type": "stream",
     "text": [
      "100%|██████████| 3999/3999 [00:03<00:00, 1131.64it/s]\n"
     ]
    },
    {
     "name": "stdout",
     "output_type": "stream",
     "text": [
      "KNNEvaluator0 completed in 7.20 seconds.\n",
      "Running evaluator: KNNEvaluator1\n"
     ]
    },
    {
     "name": "stderr",
     "output_type": "stream",
     "text": [
      "100%|██████████| 3999/3999 [00:03<00:00, 1098.56it/s]\n"
     ]
    },
    {
     "name": "stdout",
     "output_type": "stream",
     "text": [
      "KNNEvaluator1 completed in 6.94 seconds.\n",
      "Running evaluator: CKNNEvaluator2\n"
     ]
    },
    {
     "name": "stderr",
     "output_type": "stream",
     "text": [
      "100%|██████████| 20/20 [00:00<00:00, 2857.25it/s]\n",
      "100%|██████████| 3980/3980 [00:03<00:00, 1057.57it/s]\n"
     ]
    },
    {
     "name": "stdout",
     "output_type": "stream",
     "text": [
      "CKNNEvaluator2 completed in 7.60 seconds.\n",
      "Running evaluator: CKNNEvaluator3\n"
     ]
    },
    {
     "name": "stderr",
     "output_type": "stream",
     "text": [
      "100%|██████████| 1000/1000 [00:00<00:00, 1999.21it/s]\n",
      "100%|██████████| 3000/3000 [00:02<00:00, 1036.09it/s]\n"
     ]
    },
    {
     "name": "stdout",
     "output_type": "stream",
     "text": [
      "CKNNEvaluator3 completed in 7.24 seconds.\n",
      "Running evaluator: CKNNEvaluator4\n"
     ]
    },
    {
     "name": "stderr",
     "output_type": "stream",
     "text": [
      "100%|██████████| 2000/2000 [00:00<00:00, 2217.59it/s]\n",
      "100%|██████████| 2000/2000 [00:01<00:00, 1054.14it/s]\n"
     ]
    },
    {
     "name": "stdout",
     "output_type": "stream",
     "text": [
      "CKNNEvaluator4 completed in 6.79 seconds.\n",
      "Running evaluator: CKNNEvaluator5\n"
     ]
    },
    {
     "name": "stderr",
     "output_type": "stream",
     "text": [
      "100%|██████████| 3000/3000 [00:01<00:00, 2220.38it/s]\n",
      "100%|██████████| 1000/1000 [00:00<00:00, 1087.22it/s]\n"
     ]
    },
    {
     "name": "stdout",
     "output_type": "stream",
     "text": [
      "CKNNEvaluator5 completed in 6.41 seconds.\n",
      "Running evaluator: CKNNEvaluator6\n"
     ]
    },
    {
     "name": "stderr",
     "output_type": "stream",
     "text": [
      "100%|██████████| 3900/3900 [00:01<00:00, 2235.80it/s]\n",
      "100%|██████████| 100/100 [00:00<00:00, 900.23it/s]\n"
     ]
    },
    {
     "name": "stdout",
     "output_type": "stream",
     "text": [
      "CKNNEvaluator6 completed in 5.50 seconds.\n",
      "Running evaluator: LavaEvaluator_batch7\n"
     ]
    },
    {
     "name": "stderr",
     "output_type": "stream",
     "text": [
      "batch LAVA:   0%|          | 0/8 [00:00<?, ?it/s]\n",
      "\u001b[A\n",
      "\u001b[A\n",
      "\u001b[A\n",
      "\u001b[A\n",
      "\u001b[A\n",
      "\u001b[A\n",
      "\u001b[A\n",
      "\u001b[A\n",
      "\u001b[A\n",
      "\u001b[A\n",
      "\u001b[A\n",
      "\u001b[A\n",
      "\u001b[A\n",
      "\u001b[A\n",
      "\u001b[A\n",
      "\u001b[A\n",
      "\u001b[A\n",
      "\u001b[A\n",
      "\u001b[A\n",
      "\u001b[A\n",
      "\u001b[A\n",
      "\u001b[A\n",
      "\u001b[A\n",
      "\u001b[A\n",
      "\u001b[A\n",
      "\u001b[A\n",
      "\u001b[A\n",
      "\u001b[A\n",
      "\u001b[A\n",
      "\u001b[A\n",
      "\u001b[A\n",
      "\u001b[A\n",
      "\u001b[A\n",
      "batch LAVA: 100%|██████████| 4/4 [00:01<00:00,  2.29it/s]\n",
      "batch LAVA:  12%|█▎        | 1/8 [00:01<00:12,  1.79s/it]\n",
      "\u001b[A\n",
      "\u001b[A\n",
      "\u001b[A\n",
      "\u001b[A\n",
      "\u001b[A\n",
      "\u001b[A\n",
      "\u001b[A\n",
      "\u001b[A\n",
      "\u001b[A\n",
      "\u001b[A\n",
      "\u001b[A\n",
      "\u001b[A\n",
      "\u001b[A\n",
      "\u001b[A\n",
      "\u001b[A\n",
      "\u001b[A\n",
      "\u001b[A\n",
      "\u001b[A\n",
      "\u001b[A\n",
      "\u001b[A\n",
      "\u001b[A\n",
      "\u001b[A\n",
      "\u001b[A\n",
      "\u001b[A\n",
      "\u001b[A\n",
      "\u001b[A\n",
      "\u001b[A\n",
      "\u001b[A\n",
      "\u001b[A\n",
      "\u001b[A\n",
      "\u001b[A\n",
      "\u001b[A\n",
      "\u001b[A\n",
      "\u001b[A\n",
      "\u001b[A\n",
      "batch LAVA: 100%|██████████| 4/4 [00:01<00:00,  2.21it/s]\n",
      "batch LAVA:  25%|██▌       | 2/8 [00:03<00:10,  1.81s/it]\n",
      "\u001b[A\n",
      "\u001b[A\n",
      "\u001b[A\n",
      "\u001b[A\n",
      "\u001b[A\n",
      "\u001b[A\n",
      "\u001b[A\n",
      "\u001b[A\n",
      "\u001b[A\n",
      "\u001b[A\n",
      "\u001b[A\n",
      "\u001b[A\n",
      "\u001b[A\n",
      "\u001b[A\n",
      "\u001b[A\n",
      "\u001b[A\n",
      "\u001b[A\n",
      "\u001b[A\n",
      "\u001b[A\n",
      "\u001b[A\n",
      "\u001b[A\n",
      "\u001b[A\n",
      "\u001b[A\n",
      "\u001b[A\n",
      "\u001b[A\n",
      "\u001b[A\n",
      "\u001b[A\n",
      "\u001b[A\n",
      "\u001b[A\n",
      "\u001b[A\n",
      "\u001b[A\n",
      "\u001b[A\n",
      "batch LAVA: 100%|██████████| 4/4 [00:01<00:00,  2.08it/s]\n",
      "batch LAVA:  38%|███▊      | 3/8 [00:05<00:09,  1.87s/it]\n",
      "\u001b[A\n",
      "\u001b[A\n",
      "\u001b[A\n",
      "\u001b[A\n",
      "\u001b[A\n",
      "\u001b[A\n",
      "\u001b[A\n",
      "\u001b[A\n",
      "\u001b[A\n",
      "\u001b[A\n",
      "\u001b[A\n",
      "\u001b[A\n",
      "\u001b[A\n",
      "\u001b[A\n",
      "\u001b[A\n",
      "\u001b[A\n",
      "\u001b[A\n",
      "\u001b[A\n",
      "\u001b[A\n",
      "\u001b[A\n",
      "\u001b[A\n",
      "\u001b[A\n",
      "\u001b[A\n",
      "\u001b[A\n",
      "\u001b[A\n",
      "\u001b[A\n",
      "\u001b[A\n",
      "\u001b[A\n",
      "\u001b[A\n",
      "\u001b[A\n",
      "\u001b[A\n",
      "batch LAVA: 100%|██████████| 4/4 [00:01<00:00,  2.38it/s]\n",
      "batch LAVA:  50%|█████     | 4/8 [00:07<00:07,  1.80s/it]\n",
      "\u001b[A\n",
      "\u001b[A\n",
      "\u001b[A\n",
      "\u001b[A\n",
      "\u001b[A\n",
      "\u001b[A\n",
      "\u001b[A\n",
      "\u001b[A\n",
      "\u001b[A\n",
      "\u001b[A\n",
      "\u001b[A\n",
      "\u001b[A\n",
      "\u001b[A\n",
      "\u001b[A\n",
      "\u001b[A\n",
      "\u001b[A\n",
      "\u001b[A\n",
      "\u001b[A\n",
      "\u001b[A\n",
      "\u001b[A\n",
      "\u001b[A\n",
      "\u001b[A\n",
      "\u001b[A\n",
      "\u001b[A\n",
      "\u001b[A\n",
      "\u001b[A\n",
      "\u001b[A\n",
      "\u001b[A\n",
      "\u001b[A\n",
      "\u001b[A\n",
      "\u001b[A\n",
      "\u001b[A\n",
      "\u001b[A\n",
      "\u001b[A\n",
      "\u001b[A\n",
      "batch LAVA: 100%|██████████| 4/4 [00:01<00:00,  2.04it/s]\n",
      "batch LAVA:  62%|██████▎   | 5/8 [00:09<00:05,  1.86s/it]\n",
      "\u001b[A\n",
      "\u001b[A\n",
      "\u001b[A\n",
      "\u001b[A\n",
      "\u001b[A\n",
      "\u001b[A\n",
      "\u001b[A\n",
      "\u001b[A\n",
      "\u001b[A\n",
      "\u001b[A\n",
      "\u001b[A\n",
      "\u001b[A\n",
      "\u001b[A\n",
      "\u001b[A\n",
      "\u001b[A\n",
      "\u001b[A\n",
      "\u001b[A\n",
      "\u001b[A\n",
      "\u001b[A\n",
      "\u001b[A\n",
      "\u001b[A\n",
      "\u001b[A\n",
      "\u001b[A\n",
      "\u001b[A\n",
      "\u001b[A\n",
      "\u001b[A\n",
      "\u001b[A\n",
      "\u001b[A\n",
      "\u001b[A\n",
      "\u001b[A\n",
      "\u001b[A\n",
      "\u001b[A\n",
      "batch LAVA: 100%|██████████| 4/4 [00:01<00:00,  2.25it/s]\n",
      "batch LAVA:  75%|███████▌  | 6/8 [00:10<00:03,  1.83s/it]\n",
      "\u001b[A\n",
      "\u001b[A\n",
      "\u001b[A\n",
      "\u001b[A\n",
      "\u001b[A\n",
      "\u001b[A\n",
      "\u001b[A\n",
      "\u001b[A\n",
      "\u001b[A\n",
      "\u001b[A\n",
      "\u001b[A\n",
      "\u001b[A\n",
      "\u001b[A\n",
      "\u001b[A\n",
      "\u001b[A\n",
      "\u001b[A\n",
      "\u001b[A\n",
      "\u001b[A\n",
      "\u001b[A\n",
      "\u001b[A\n",
      "\u001b[A\n",
      "\u001b[A\n",
      "\u001b[A\n",
      "\u001b[A\n",
      "\u001b[A\n",
      "\u001b[A\n",
      "\u001b[A\n",
      "\u001b[A\n",
      "\u001b[A\n",
      "\u001b[A\n",
      "\u001b[A\n",
      "\u001b[A\n",
      "\u001b[A\n",
      "batch LAVA: 100%|██████████| 4/4 [00:01<00:00,  2.34it/s]\n",
      "batch LAVA:  88%|████████▊ | 7/8 [00:12<00:01,  1.80s/it]\n",
      "\u001b[A\n",
      "\u001b[A\n",
      "\u001b[A\n",
      "\u001b[A\n",
      "\u001b[A\n",
      "\u001b[A\n",
      "\u001b[A\n",
      "\u001b[A\n",
      "\u001b[A\n",
      "\u001b[A\n",
      "\u001b[A\n",
      "\u001b[A\n",
      "\u001b[A\n",
      "\u001b[A\n",
      "\u001b[A\n",
      "\u001b[A\n",
      "\u001b[A\n",
      "\u001b[A\n",
      "\u001b[A\n",
      "\u001b[A\n",
      "\u001b[A\n",
      "\u001b[A\n",
      "\u001b[A\n",
      "\u001b[A\n",
      "\u001b[A\n",
      "\u001b[A\n",
      "\u001b[A\n",
      "\u001b[A\n",
      "\u001b[A\n",
      "\u001b[A\n",
      "\u001b[A\n",
      "\u001b[A\n",
      "\u001b[A\n",
      "\u001b[A\n",
      "\u001b[A\n",
      "batch LAVA: 100%|██████████| 4/4 [00:01<00:00,  2.43it/s]\n",
      "batch LAVA: 100%|██████████| 8/8 [00:14<00:00,  1.80s/it]\n"
     ]
    },
    {
     "name": "stdout",
     "output_type": "stream",
     "text": [
      "LavaEvaluator_batch7 completed in 14.39 seconds.\n",
      "Running evaluator: LavaEvaluator_batch8\n"
     ]
    },
    {
     "name": "stderr",
     "output_type": "stream",
     "text": [
      "batch LAVA:   0%|          | 0/2 [00:00<?, ?it/s]\n",
      "\u001b[A\n",
      "\u001b[A\n",
      "\u001b[A\n",
      "\u001b[A\n",
      "\u001b[A\n",
      "\u001b[A\n",
      "\u001b[A\n",
      "\u001b[A\n",
      "\u001b[A\n",
      "\u001b[A\n",
      "\u001b[A\n",
      "\u001b[A\n",
      "\u001b[A\n",
      "\u001b[A\n",
      "\u001b[A\n",
      "\u001b[A\n",
      "\u001b[A\n",
      "\u001b[A\n",
      "batch LAVA: 100%|██████████| 1/1 [00:02<00:00,  2.45s/it]\n",
      "batch LAVA:  50%|█████     | 1/2 [00:02<00:02,  2.48s/it]\n",
      "\u001b[A\n",
      "\u001b[A\n",
      "\u001b[A\n",
      "\u001b[A\n",
      "\u001b[A\n",
      "\u001b[A\n",
      "\u001b[A\n",
      "\u001b[A\n",
      "\u001b[A\n",
      "\u001b[A\n",
      "\u001b[A\n",
      "\u001b[A\n",
      "\u001b[A\n",
      "\u001b[A\n",
      "\u001b[A\n",
      "\u001b[A\n",
      "\u001b[A\n",
      "batch LAVA: 100%|██████████| 1/1 [00:02<00:00,  2.49s/it]\n",
      "batch LAVA: 100%|██████████| 2/2 [00:05<00:00,  2.51s/it]\n"
     ]
    },
    {
     "name": "stdout",
     "output_type": "stream",
     "text": [
      "LavaEvaluator_batch8 completed in 5.02 seconds.\n",
      "Running evaluator: LavaEvaluator_batchl2l9\n"
     ]
    },
    {
     "name": "stderr",
     "output_type": "stream",
     "text": [
      "batch LAVA: 100%|██████████| 4/4 [00:00<00:00, 22.13it/s]                          \n",
      "batch LAVA: 100%|██████████| 4/4 [00:00<00:00, 20.40it/s]\n",
      "batch LAVA: 100%|██████████| 4/4 [00:00<00:00, 21.67it/s]\n",
      "batch LAVA: 100%|██████████| 4/4 [00:00<00:00, 22.91it/s]\n",
      "batch LAVA: 100%|██████████| 4/4 [00:00<00:00, 21.02it/s]\n",
      "batch LAVA: 100%|██████████| 4/4 [00:00<00:00, 21.71it/s]\n",
      "batch LAVA: 100%|██████████| 4/4 [00:00<00:00, 22.66it/s]\n",
      "batch LAVA: 100%|██████████| 4/4 [00:00<00:00, 25.31it/s]\n",
      "batch LAVA: 100%|██████████| 8/8 [00:01<00:00,  5.19it/s]\n"
     ]
    },
    {
     "name": "stdout",
     "output_type": "stream",
     "text": [
      "LavaEvaluator_batchl2l9 completed in 4.96 seconds.\n",
      "Running evaluator: LavaEvaluator_batchl2l10\n"
     ]
    },
    {
     "name": "stderr",
     "output_type": "stream",
     "text": [
      "batch LAVA: 100%|██████████| 2/2 [00:00<00:00,  5.99it/s]                          \n",
      "batch LAVA: 100%|██████████| 2/2 [00:00<00:00,  5.22it/s]\n",
      "batch LAVA: 100%|██████████| 2/2 [00:00<00:00,  5.88it/s]\n",
      "batch LAVA: 100%|██████████| 2/2 [00:00<00:00,  6.26it/s]\n",
      "batch LAVA: 100%|██████████| 4/4 [00:01<00:00,  2.76it/s]\n"
     ]
    },
    {
     "name": "stdout",
     "output_type": "stream",
     "text": [
      "LavaEvaluator_batchl2l10 completed in 4.84 seconds.\n",
      "Running evaluator: LavaEvaluator_batchl2l11\n"
     ]
    },
    {
     "name": "stderr",
     "output_type": "stream",
     "text": [
      "batch LAVA: 100%|██████████| 1/1 [00:00<00:00,  1.11it/s]                          \n",
      "batch LAVA: 100%|██████████| 1/1 [00:00<00:00,  1.20it/s]\n",
      "batch LAVA: 100%|██████████| 2/2 [00:01<00:00,  1.11it/s]\n"
     ]
    },
    {
     "name": "stdout",
     "output_type": "stream",
     "text": [
      "LavaEvaluator_batchl2l11 completed in 5.87 seconds.\n",
      "Running evaluator: LavaEvaluator_OT12\n"
     ]
    },
    {
     "name": "stderr",
     "output_type": "stream",
     "text": [
      "                                                                           \r"
     ]
    },
    {
     "name": "stdout",
     "output_type": "stream",
     "text": [
      "LavaEvaluator_OT12 completed in 2.62 seconds.\n",
      "Running evaluator: LavaEvaluator_geomloss13\n"
     ]
    },
    {
     "name": "stderr",
     "output_type": "stream",
     "text": [
      "                                                                                   \r"
     ]
    },
    {
     "name": "stdout",
     "output_type": "stream",
     "text": [
      "LavaEvaluator_geomloss13 completed in 5.68 seconds.\n"
     ]
    }
   ],
   "source": [
    "from base_evaluator import BaseEvaluator, KNNEvaluator,CKNNEvaluator ,LavaEvaluator_geomloss, LavaEvaluator_OT, ExperimentRunner, LavaEvaluator_batch, LavaEvaluator_batchl2l\n",
    "knn_evaluator = KNNEvaluator(Ismetric= 1)\n",
    "knn_evaluator1 = KNNEvaluator(Ismetric= 0)\n",
    "cknn_evaluator1 = CKNNEvaluator(T = 20, default=False)\n",
    "cknn_evaluator2 = CKNNEvaluator(T = 1000, default=False)\n",
    "cknn_evaluator3 = CKNNEvaluator(T = 2000, default=False)\n",
    "cknn_evaluator4 = CKNNEvaluator(T = 3000, default=False)\n",
    "cknn_evaluator5 = CKNNEvaluator(T = 3900, default=False)\n",
    "lava_evaluator_batch1 = LavaEvaluator_batch(batch = 512)\n",
    "lava_evaluator_batch2 = LavaEvaluator_batch(batch = 2048)\n",
    "lava_evaluator_batchl2l1 = LavaEvaluator_batchl2l(batch = 512)\n",
    "lava_evaluator_batchl2l2 = LavaEvaluator_batchl2l(batch = 1024)\n",
    "lava_evaluator_batchl2l3 = LavaEvaluator_batchl2l(batch = 2048)\n",
    "lava_evaluator_OT = LavaEvaluator_OT()\n",
    "lava_evaluator_geomloss = LavaEvaluator_geomloss()\n",
    "experiment = ExperimentRunner(evaluators=[knn_evaluator, knn_evaluator, cknn_evaluator1, cknn_evaluator2, cknn_evaluator3, cknn_evaluator4, cknn_evaluator5, lava_evaluator_batch1, lava_evaluator_batch2, lava_evaluator_batchl2l1, lava_evaluator_batchl2l2, lava_evaluator_batchl2l3, lava_evaluator_OT, lava_evaluator_geomloss])\n",
    "results = experiment.run(x_embeddings, y_labels, xt_embeddings, yt_labels)"
   ]
  },
  {
   "cell_type": "code",
   "execution_count": 20,
   "metadata": {},
   "outputs": [
    {
     "name": "stdout",
     "output_type": "stream",
     "text": [
      "Running remove_low experiment...\n",
      "position: 0\n",
      "position: 400\n",
      "position: 800\n",
      "position: 1200\n",
      "position: 1600\n",
      "position: 2000\n",
      "position: 2400\n",
      "position: 2800\n",
      "position: 3200\n",
      "position: 3600\n"
     ]
    },
    {
     "data": {
      "image/png": "[encoded data removed]",
      "text/plain": [
       "<Figure size 640x480 with 1 Axes>"
      ]
     },
     "metadata": {},
     "output_type": "display_data"
    },
    {
     "name": "stdout",
     "output_type": "stream",
     "text": [
      "Running remove_high experiment...\n",
      "position: 0\n",
      "position: 400\n",
      "position: 800\n",
      "position: 1200\n",
      "position: 1600\n",
      "position: 2000\n",
      "position: 2400\n",
      "position: 2800\n",
      "position: 3200\n",
      "position: 3600\n"
     ]
    },
    {
     "data": {
      "image/png": "[encoded data removed]",
      "text/plain": [
       "<Figure size 640x480 with 1 Axes>"
      ]
     },
     "metadata": {},
     "output_type": "display_data"
    },
    {
     "data": {
      "image/png": "[encoded data removed]",
      "text/plain": [
       "<Figure size 1500x200 with 5 Axes>"
      ]
     },
     "metadata": {},
     "output_type": "display_data"
    }
   ],
   "source": [
    "from experiment_run import run_experiments\n",
    "seed = 2025\n",
    "np.random.seed(seed)\n",
    "rand_lst = []\n",
    "shap_list = [value for value in results.values()]\n",
    "rand_lst.append(np.random.rand(len(shap_list[0])))\n",
    "name = ['knn', 'tknn2000', 'lava_batch2048','lava_batchl2l_512', 'lava_batchl2l_2048', 'lava_geomloss', 'random']\n",
    "model = LogisticRegression(input_dim, num_classes)\n",
    "values = [shap_list[0] , shap_list[3], shap_list[7], shap_list[8], shap_list[10],  shap_list[12], rand_lst[0]]\n",
    "run_experiments(values, name, x_embeddings, y_labels, xt_embeddings, yt_labels, model)"
   ]
  },
  {
   "cell_type": "code",
   "execution_count": 22,
   "metadata": {},
   "outputs": [],
   "source": [
    "from experiment_run import run_experiments"
   ]
  },
  {
   "cell_type": "code",
   "execution_count": 21,
   "metadata": {},
   "outputs": [
    {
     "name": "stdout",
     "output_type": "stream",
     "text": [
      "Running remove_low experiment...\n",
      "position: 0\n",
      "position: 400\n",
      "position: 800\n",
      "position: 1200\n",
      "position: 1600\n",
      "position: 2000\n",
      "position: 2400\n",
      "position: 2800\n",
      "position: 3200\n",
      "position: 3600\n"
     ]
    },
    {
     "data": {
      "image/png": "[encoded data removed]",
      "text/plain": [
       "<Figure size 640x480 with 1 Axes>"
      ]
     },
     "metadata": {},
     "output_type": "display_data"
    },
    {
     "name": "stdout",
     "output_type": "stream",
     "text": [
      "Running remove_high experiment...\n",
      "position: 0\n",
      "position: 400\n",
      "position: 800\n",
      "position: 1200\n",
      "position: 1600\n",
      "position: 2000\n",
      "position: 2400\n",
      "position: 2800\n",
      "position: 3200\n",
      "position: 3600\n"
     ]
    },
    {
     "data": {
      "image/png": "[encoded data removed]",
      "text/plain": [
       "<Figure size 640x480 with 1 Axes>"
      ]
     },
     "metadata": {},
     "output_type": "display_data"
    },
    {
     "data": {
      "image/png": "[encoded data removed]",
      "text/plain": [
       "<Figure size 1500x200 with 5 Axes>"
      ]
     },
     "metadata": {},
     "output_type": "display_data"
    }
   ],
   "source": [
    "seed = 46\n",
    "np.random.seed(seed)\n",
    "rand_lst = []\n",
    "shap_list = [value for value in results.values()]\n",
    "rand_lst.append(np.random.rand(len(shap_list[0])))\n",
    "#name = ['knn', 'tknn2000', 'lava_batchl2l_2048', 'lava_geomloss']\n",
    "name = ['knn']\n",
    "model = LogisticRegression(input_dim, num_classes)\n",
    "#values = [shap_list[0] , shap_list[3], shap_list[10],  shap_list[12]]\n",
    "values = [shap_list[0]]\n",
    "run_experiments(values, name, x_embeddings, y_labels, xt_embeddings, yt_labels, model)"
   ]
  },
  {
   "cell_type": "code",
   "execution_count": 2,
   "metadata": {},
   "outputs": [
    {
     "name": "stdout",
     "output_type": "stream",
     "text": [
      "Training embeddings shape: (1000, 2048)\n",
      "Training labels shape: (1000,)\n",
      "Validation embeddings shape: (500, 2048)\n",
      "Validation labels shape: (500,)\n"
     ]
    }
   ],
   "source": [
    "### Load x_y_embedding_data\n",
    "import pickle\n",
    "with open('x_y_embedding_cifar.pkl', 'rb') as f:\n",
    "    #x_embeddings, y_labels, xt_embeddings, yt_labels = pickle.load(f)\n",
    "    embedding_default_train, finetuned_label_train, embedding_default_valid, finetuned_label_valid, embedding_default_test, finetuned_label_test = pickle.load(f)\n",
    "x_embeddings = embedding_default_train\n",
    "y_labels = finetuned_label_train\n",
    "xt_embeddings = embedding_default_test\n",
    "yt_labels = finetuned_label_test\n",
    "print(\"Training embeddings shape:\", x_embeddings.shape)\n",
    "print(\"Training labels shape:\", y_labels.shape)\n",
    "print(\"Validation embeddings shape:\", xt_embeddings.shape)\n",
    "print(\"Validation labels shape:\", yt_labels.shape)"
   ]
  },
  {
   "cell_type": "code",
   "execution_count": 5,
   "metadata": {},
   "outputs": [
    {
     "name": "stdout",
     "output_type": "stream",
     "text": [
      "500\n",
      "Noisy training labels shape: (1000,)\n",
      "Accuracy: 0.6677099914404038\n"
     ]
    }
   ],
   "source": [
    "from machine_learning_model import LogisticRegression\n",
    "from nosify import mix_label\n",
    "param = mix_label(y_labels, yt_labels, noise_rate=0.2)\n",
    "y_labels_noisy = param['y_train']\n",
    "noisy_train_indices = param['noisy_train_indices']\n",
    "print(\"Noisy training labels shape:\", y_labels_noisy.shape)\n",
    "# train model logistic regression\n",
    "input_dim = x_embeddings.shape[1]\n",
    "num_classes = len(np.unique(y_labels))\n",
    "model = LogisticRegression(input_dim, num_classes)\n",
    "model.fit(x_embeddings, y_labels_noisy, epochs= 1000, lr = 0.1)\n",
    "# predict\n",
    "y_pred = model.predict(xt_embeddings)\n",
    "# evaluate\n",
    "from sklearn.metrics import f1_score, accuracy_score\n",
    "accuracy = f1_score(yt_labels, y_pred, average='weighted')\n",
    "print(\"Accuracy:\", accuracy)"
   ]
  },
  {
   "cell_type": "code",
   "execution_count": 9,
   "metadata": {},
   "outputs": [
    {
     "name": "stdout",
     "output_type": "stream",
     "text": [
      "Running evaluator: KNNEvaluator0\n"
     ]
    },
    {
     "name": "stderr",
     "output_type": "stream",
     "text": [
      "100%|██████████| 999/999 [00:00<00:00, 3517.94it/s]\n"
     ]
    },
    {
     "name": "stdout",
     "output_type": "stream",
     "text": [
      "KNNEvaluator0 completed in 0.69 seconds.\n",
      "Running evaluator: KNNEvaluator1\n"
     ]
    },
    {
     "name": "stderr",
     "output_type": "stream",
     "text": [
      "100%|██████████| 999/999 [00:00<00:00, 3456.98it/s]\n"
     ]
    },
    {
     "name": "stdout",
     "output_type": "stream",
     "text": [
      "KNNEvaluator1 completed in 0.54 seconds.\n",
      "Running evaluator: CKNNEvaluator2\n"
     ]
    },
    {
     "name": "stderr",
     "output_type": "stream",
     "text": [
      "100%|██████████| 20/20 [00:00<00:00, 6673.51it/s]\n",
      "100%|██████████| 980/980 [00:00<00:00, 3708.98it/s]\n"
     ]
    },
    {
     "name": "stdout",
     "output_type": "stream",
     "text": [
      "CKNNEvaluator2 completed in 0.50 seconds.\n",
      "Running evaluator: CKNNEvaluator3\n"
     ]
    },
    {
     "name": "stderr",
     "output_type": "stream",
     "text": [
      "100%|██████████| 100/100 [00:00<00:00, 6318.63it/s]\n",
      "100%|██████████| 900/900 [00:00<00:00, 3822.81it/s]\n"
     ]
    },
    {
     "name": "stdout",
     "output_type": "stream",
     "text": [
      "CKNNEvaluator3 completed in 0.49 seconds.\n",
      "Running evaluator: CKNNEvaluator4\n"
     ]
    },
    {
     "name": "stderr",
     "output_type": "stream",
     "text": [
      "100%|██████████| 500/500 [00:00<00:00, 8021.60it/s]\n",
      "100%|██████████| 500/500 [00:00<00:00, 3668.70it/s]\n"
     ]
    },
    {
     "name": "stdout",
     "output_type": "stream",
     "text": [
      "CKNNEvaluator4 completed in 0.45 seconds.\n",
      "Running evaluator: CKNNEvaluator5\n"
     ]
    },
    {
     "name": "stderr",
     "output_type": "stream",
     "text": [
      "100%|██████████| 900/900 [00:00<00:00, 6061.38it/s]\n",
      "100%|██████████| 100/100 [00:00<00:00, 3234.75it/s]\n"
     ]
    },
    {
     "name": "stdout",
     "output_type": "stream",
     "text": [
      "CKNNEvaluator5 completed in 0.47 seconds.\n",
      "Running evaluator: CKNNEvaluator6\n"
     ]
    },
    {
     "name": "stderr",
     "output_type": "stream",
     "text": [
      "100%|██████████| 980/980 [00:00<00:00, 6445.75it/s]\n",
      "100%|██████████| 20/20 [00:00<00:00, 2472.18it/s]\n"
     ]
    },
    {
     "name": "stdout",
     "output_type": "stream",
     "text": [
      "CKNNEvaluator6 completed in 0.47 seconds.\n",
      "Running evaluator: CKNNEvaluator7\n"
     ]
    },
    {
     "name": "stderr",
     "output_type": "stream",
     "text": [
      "100%|██████████| 20/20 [00:00<00:00, 4998.28it/s]\n",
      "100%|██████████| 980/980 [00:00<00:00, 3287.59it/s]\n"
     ]
    },
    {
     "name": "stdout",
     "output_type": "stream",
     "text": [
      "CKNNEvaluator7 completed in 0.55 seconds.\n",
      "Running evaluator: CKNNEvaluator8\n"
     ]
    },
    {
     "name": "stderr",
     "output_type": "stream",
     "text": [
      "100%|██████████| 100/100 [00:00<00:00, 7989.61it/s]\n",
      "100%|██████████| 900/900 [00:00<00:00, 3765.13it/s]\n"
     ]
    },
    {
     "name": "stdout",
     "output_type": "stream",
     "text": [
      "CKNNEvaluator8 completed in 0.47 seconds.\n",
      "Running evaluator: CKNNEvaluator9\n"
     ]
    },
    {
     "name": "stderr",
     "output_type": "stream",
     "text": [
      "100%|██████████| 500/500 [00:00<00:00, 6899.59it/s]\n",
      "100%|██████████| 500/500 [00:00<00:00, 3497.76it/s]\n"
     ]
    },
    {
     "name": "stdout",
     "output_type": "stream",
     "text": [
      "CKNNEvaluator9 completed in 0.51 seconds.\n",
      "Running evaluator: CKNNEvaluator10\n"
     ]
    },
    {
     "name": "stderr",
     "output_type": "stream",
     "text": [
      "100%|██████████| 900/900 [00:00<00:00, 6243.45it/s]\n",
      "100%|██████████| 100/100 [00:00<00:00, 2853.23it/s]\n"
     ]
    },
    {
     "name": "stdout",
     "output_type": "stream",
     "text": [
      "CKNNEvaluator10 completed in 0.43 seconds.\n",
      "Running evaluator: CKNNEvaluator11\n"
     ]
    },
    {
     "name": "stderr",
     "output_type": "stream",
     "text": [
      "100%|██████████| 980/980 [00:00<00:00, 7773.43it/s]\n",
      "100%|██████████| 20/20 [00:00<00:00, 3997.05it/s]\n"
     ]
    },
    {
     "name": "stdout",
     "output_type": "stream",
     "text": [
      "CKNNEvaluator11 completed in 0.37 seconds.\n",
      "Running evaluator: CKNNEvaluator12\n"
     ]
    },
    {
     "name": "stderr",
     "output_type": "stream",
     "text": [
      "100%|██████████| 20/20 [00:00<00:00, 4532.42it/s]\n",
      "100%|██████████| 980/980 [00:00<00:00, 3629.56it/s]\n"
     ]
    },
    {
     "name": "stdout",
     "output_type": "stream",
     "text": [
      "CKNNEvaluator12 completed in 0.51 seconds.\n",
      "Running evaluator: CKNNEvaluator13\n"
     ]
    },
    {
     "name": "stderr",
     "output_type": "stream",
     "text": [
      "100%|██████████| 100/100 [00:00<00:00, 7997.99it/s]\n",
      "100%|██████████| 900/900 [00:00<00:00, 3538.04it/s]\n"
     ]
    },
    {
     "name": "stdout",
     "output_type": "stream",
     "text": [
      "CKNNEvaluator13 completed in 0.50 seconds.\n",
      "Running evaluator: CKNNEvaluator14\n"
     ]
    },
    {
     "name": "stderr",
     "output_type": "stream",
     "text": [
      "100%|██████████| 500/500 [00:00<00:00, 7313.70it/s]\n",
      "100%|██████████| 500/500 [00:00<00:00, 3263.31it/s]\n"
     ]
    },
    {
     "name": "stdout",
     "output_type": "stream",
     "text": [
      "CKNNEvaluator14 completed in 0.46 seconds.\n",
      "Running evaluator: CKNNEvaluator15\n"
     ]
    },
    {
     "name": "stderr",
     "output_type": "stream",
     "text": [
      "100%|██████████| 900/900 [00:00<00:00, 7398.16it/s]\n",
      "100%|██████████| 100/100 [00:00<00:00, 1580.60it/s]\n"
     ]
    },
    {
     "name": "stdout",
     "output_type": "stream",
     "text": [
      "CKNNEvaluator15 completed in 0.45 seconds.\n",
      "Running evaluator: CKNNEvaluator16\n"
     ]
    },
    {
     "name": "stderr",
     "output_type": "stream",
     "text": [
      "100%|██████████| 980/980 [00:00<00:00, 8072.34it/s]\n",
      "100%|██████████| 20/20 [00:00<00:00, 3029.47it/s]\n"
     ]
    },
    {
     "name": "stdout",
     "output_type": "stream",
     "text": [
      "CKNNEvaluator16 completed in 0.38 seconds.\n",
      "Running evaluator: CKNNEvaluator17\n"
     ]
    },
    {
     "name": "stderr",
     "output_type": "stream",
     "text": [
      "100%|██████████| 20/20 [00:00<00:00, 5704.98it/s]\n",
      "100%|██████████| 980/980 [00:00<00:00, 3368.49it/s]\n"
     ]
    },
    {
     "name": "stdout",
     "output_type": "stream",
     "text": [
      "CKNNEvaluator17 completed in 0.52 seconds.\n",
      "Running evaluator: CKNNEvaluator18\n"
     ]
    },
    {
     "name": "stderr",
     "output_type": "stream",
     "text": [
      "100%|██████████| 100/100 [00:00<00:00, 6159.40it/s]\n",
      "100%|██████████| 900/900 [00:00<00:00, 3351.39it/s]\n"
     ]
    },
    {
     "name": "stdout",
     "output_type": "stream",
     "text": [
      "CKNNEvaluator18 completed in 0.51 seconds.\n",
      "Running evaluator: CKNNEvaluator19\n"
     ]
    },
    {
     "name": "stderr",
     "output_type": "stream",
     "text": [
      "100%|██████████| 500/500 [00:00<00:00, 7927.66it/s]\n",
      "100%|██████████| 500/500 [00:00<00:00, 3474.08it/s]\n"
     ]
    },
    {
     "name": "stdout",
     "output_type": "stream",
     "text": [
      "CKNNEvaluator19 completed in 0.49 seconds.\n",
      "Running evaluator: CKNNEvaluator20\n"
     ]
    },
    {
     "name": "stderr",
     "output_type": "stream",
     "text": [
      "100%|██████████| 900/900 [00:00<00:00, 7523.28it/s]\n",
      "100%|██████████| 100/100 [00:00<00:00, 3503.28it/s]\n"
     ]
    },
    {
     "name": "stdout",
     "output_type": "stream",
     "text": [
      "CKNNEvaluator20 completed in 0.37 seconds.\n",
      "Running evaluator: CKNNEvaluator21\n"
     ]
    },
    {
     "name": "stderr",
     "output_type": "stream",
     "text": [
      "100%|██████████| 980/980 [00:00<00:00, 8068.65it/s]\n",
      "100%|██████████| 20/20 [00:00<00:00, 2644.41it/s]\n"
     ]
    },
    {
     "name": "stdout",
     "output_type": "stream",
     "text": [
      "CKNNEvaluator21 completed in 0.37 seconds.\n",
      "Running evaluator: CKNNEvaluator22\n"
     ]
    },
    {
     "name": "stderr",
     "output_type": "stream",
     "text": [
      "100%|██████████| 20/20 [00:00<00:00, 4429.74it/s]\n",
      "100%|██████████| 980/980 [00:00<00:00, 3782.68it/s]\n"
     ]
    },
    {
     "name": "stdout",
     "output_type": "stream",
     "text": [
      "CKNNEvaluator22 completed in 0.52 seconds.\n",
      "Running evaluator: CKNNEvaluator23\n"
     ]
    },
    {
     "name": "stderr",
     "output_type": "stream",
     "text": [
      "100%|██████████| 100/100 [00:00<00:00, 5781.58it/s]\n",
      "100%|██████████| 900/900 [00:00<00:00, 3149.05it/s]\n"
     ]
    },
    {
     "name": "stdout",
     "output_type": "stream",
     "text": [
      "CKNNEvaluator23 completed in 0.53 seconds.\n",
      "Running evaluator: CKNNEvaluator24\n"
     ]
    },
    {
     "name": "stderr",
     "output_type": "stream",
     "text": [
      "100%|██████████| 500/500 [00:00<00:00, 7313.57it/s]\n",
      "100%|██████████| 500/500 [00:00<00:00, 3598.25it/s]\n"
     ]
    },
    {
     "name": "stdout",
     "output_type": "stream",
     "text": [
      "CKNNEvaluator24 completed in 0.45 seconds.\n",
      "Running evaluator: CKNNEvaluator25\n"
     ]
    },
    {
     "name": "stderr",
     "output_type": "stream",
     "text": [
      "100%|██████████| 900/900 [00:00<00:00, 7468.58it/s]\n",
      "100%|██████████| 100/100 [00:00<00:00, 2937.43it/s]\n"
     ]
    },
    {
     "name": "stdout",
     "output_type": "stream",
     "text": [
      "CKNNEvaluator25 completed in 0.37 seconds.\n",
      "Running evaluator: CKNNEvaluator26\n"
     ]
    },
    {
     "name": "stderr",
     "output_type": "stream",
     "text": [
      "100%|██████████| 980/980 [00:00<00:00, 7117.61it/s]\n",
      "100%|██████████| 20/20 [00:00<00:00, 3331.06it/s]\n"
     ]
    },
    {
     "name": "stdout",
     "output_type": "stream",
     "text": [
      "CKNNEvaluator26 completed in 0.37 seconds.\n",
      "Running evaluator: CKNNEvaluator27\n"
     ]
    },
    {
     "name": "stderr",
     "output_type": "stream",
     "text": [
      "100%|██████████| 20/20 [00:00<00:00, 6661.33it/s]\n",
      "100%|██████████| 980/980 [00:00<00:00, 3662.61it/s]\n"
     ]
    },
    {
     "name": "stdout",
     "output_type": "stream",
     "text": [
      "CKNNEvaluator27 completed in 0.52 seconds.\n",
      "Running evaluator: CKNNEvaluator28\n"
     ]
    },
    {
     "name": "stderr",
     "output_type": "stream",
     "text": [
      "100%|██████████| 100/100 [00:00<00:00, 7368.12it/s]\n",
      "100%|██████████| 900/900 [00:00<00:00, 3841.67it/s]\n"
     ]
    },
    {
     "name": "stdout",
     "output_type": "stream",
     "text": [
      "CKNNEvaluator28 completed in 0.47 seconds.\n",
      "Running evaluator: CKNNEvaluator29\n"
     ]
    },
    {
     "name": "stderr",
     "output_type": "stream",
     "text": [
      "100%|██████████| 500/500 [00:00<00:00, 7548.33it/s]\n",
      "100%|██████████| 500/500 [00:00<00:00, 3456.93it/s]\n"
     ]
    },
    {
     "name": "stdout",
     "output_type": "stream",
     "text": [
      "CKNNEvaluator29 completed in 0.43 seconds.\n",
      "Running evaluator: CKNNEvaluator30\n"
     ]
    },
    {
     "name": "stderr",
     "output_type": "stream",
     "text": [
      "100%|██████████| 900/900 [00:00<00:00, 8096.78it/s]\n",
      "100%|██████████| 100/100 [00:00<00:00, 3997.32it/s]\n"
     ]
    },
    {
     "name": "stdout",
     "output_type": "stream",
     "text": [
      "CKNNEvaluator30 completed in 0.36 seconds.\n",
      "Running evaluator: CKNNEvaluator31\n"
     ]
    },
    {
     "name": "stderr",
     "output_type": "stream",
     "text": [
      "100%|██████████| 980/980 [00:00<00:00, 6058.04it/s]\n",
      "100%|██████████| 20/20 [00:00<00:00, 3058.97it/s]\n"
     ]
    },
    {
     "name": "stdout",
     "output_type": "stream",
     "text": [
      "CKNNEvaluator31 completed in 0.38 seconds.\n",
      "Running evaluator: CKNNEvaluator32\n"
     ]
    },
    {
     "name": "stderr",
     "output_type": "stream",
     "text": [
      "100%|██████████| 20/20 [00:00<00:00, 4575.94it/s]\n",
      "100%|██████████| 980/980 [00:00<00:00, 3230.66it/s]\n"
     ]
    },
    {
     "name": "stdout",
     "output_type": "stream",
     "text": [
      "CKNNEvaluator32 completed in 0.58 seconds.\n",
      "Running evaluator: CKNNEvaluator33\n"
     ]
    },
    {
     "name": "stderr",
     "output_type": "stream",
     "text": [
      "100%|██████████| 100/100 [00:00<00:00, 6437.82it/s]\n",
      "100%|██████████| 900/900 [00:00<00:00, 3293.66it/s]\n"
     ]
    },
    {
     "name": "stdout",
     "output_type": "stream",
     "text": [
      "CKNNEvaluator33 completed in 0.57 seconds.\n",
      "Running evaluator: CKNNEvaluator34\n"
     ]
    },
    {
     "name": "stderr",
     "output_type": "stream",
     "text": [
      "100%|██████████| 500/500 [00:00<00:00, 7052.55it/s]\n",
      "100%|██████████| 500/500 [00:00<00:00, 3199.37it/s]\n"
     ]
    },
    {
     "name": "stdout",
     "output_type": "stream",
     "text": [
      "CKNNEvaluator34 completed in 0.51 seconds.\n",
      "Running evaluator: CKNNEvaluator35\n"
     ]
    },
    {
     "name": "stderr",
     "output_type": "stream",
     "text": [
      "100%|██████████| 900/900 [00:00<00:00, 6963.80it/s]\n",
      "100%|██████████| 100/100 [00:00<00:00, 2529.13it/s]\n"
     ]
    },
    {
     "name": "stdout",
     "output_type": "stream",
     "text": [
      "CKNNEvaluator35 completed in 0.41 seconds.\n",
      "Running evaluator: CKNNEvaluator36\n"
     ]
    },
    {
     "name": "stderr",
     "output_type": "stream",
     "text": [
      "100%|██████████| 980/980 [00:00<00:00, 7081.30it/s]\n",
      "100%|██████████| 20/20 [00:00<00:00, 3064.56it/s]\n"
     ]
    },
    {
     "name": "stdout",
     "output_type": "stream",
     "text": [
      "CKNNEvaluator36 completed in 0.41 seconds.\n",
      "Running evaluator: CKNNEvaluator37\n"
     ]
    },
    {
     "name": "stderr",
     "output_type": "stream",
     "text": [
      "100%|██████████| 20/20 [00:00<00:00, 10011.47it/s]\n",
      "100%|██████████| 980/980 [00:00<00:00, 3423.10it/s]\n"
     ]
    },
    {
     "name": "stdout",
     "output_type": "stream",
     "text": [
      "CKNNEvaluator37 completed in 0.55 seconds.\n",
      "Running evaluator: CKNNEvaluator38\n"
     ]
    },
    {
     "name": "stderr",
     "output_type": "stream",
     "text": [
      "100%|██████████| 100/100 [00:00<00:00, 7963.67it/s]\n",
      "100%|██████████| 900/900 [00:00<00:00, 3592.50it/s]\n"
     ]
    },
    {
     "name": "stdout",
     "output_type": "stream",
     "text": [
      "CKNNEvaluator38 completed in 0.59 seconds.\n",
      "Running evaluator: CKNNEvaluator39\n"
     ]
    },
    {
     "name": "stderr",
     "output_type": "stream",
     "text": [
      "100%|██████████| 500/500 [00:00<00:00, 6929.48it/s]\n",
      "100%|██████████| 500/500 [00:00<00:00, 3050.32it/s]\n"
     ]
    },
    {
     "name": "stdout",
     "output_type": "stream",
     "text": [
      "CKNNEvaluator39 completed in 0.52 seconds.\n",
      "Running evaluator: CKNNEvaluator40\n"
     ]
    },
    {
     "name": "stderr",
     "output_type": "stream",
     "text": [
      "100%|██████████| 900/900 [00:00<00:00, 4633.46it/s]\n",
      "100%|██████████| 100/100 [00:00<00:00, 4430.63it/s]\n"
     ]
    },
    {
     "name": "stdout",
     "output_type": "stream",
     "text": [
      "CKNNEvaluator40 completed in 0.51 seconds.\n",
      "Running evaluator: CKNNEvaluator41\n"
     ]
    },
    {
     "name": "stderr",
     "output_type": "stream",
     "text": [
      "100%|██████████| 980/980 [00:00<00:00, 6717.54it/s]\n",
      "100%|██████████| 20/20 [00:00<00:00, 3630.65it/s]\n"
     ]
    },
    {
     "name": "stdout",
     "output_type": "stream",
     "text": [
      "CKNNEvaluator41 completed in 0.44 seconds.\n",
      "Running evaluator: LavaEvaluator_batch42\n"
     ]
    },
    {
     "name": "stderr",
     "output_type": "stream",
     "text": [
      "batch LAVA:   0%|          | 0/4 [00:00<?, ?it/s]\n",
      "\u001b[A\n",
      "\u001b[A\n",
      "\u001b[A\n",
      "\u001b[A\n",
      "\u001b[A\n",
      "\u001b[A\n",
      "\u001b[A\n",
      "\u001b[A\n",
      "\u001b[A\n",
      "\u001b[A\n",
      "\u001b[A\n",
      "\u001b[A\n",
      "\u001b[A\n",
      "\u001b[A\n",
      "\u001b[A\n",
      "\u001b[A\n",
      "\u001b[A\n",
      "\u001b[A\n",
      "\u001b[A\n",
      "\u001b[A\n",
      "\u001b[A\n",
      "\u001b[A\n",
      "\u001b[A\n",
      "\u001b[A\n",
      "\u001b[A\n",
      "batch LAVA: 100%|██████████| 2/2 [00:01<00:00,  1.02it/s]\n",
      "batch LAVA:  25%|██▌       | 1/4 [00:01<00:05,  1.98s/it]\n",
      "\u001b[A\n",
      "\u001b[A\n",
      "\u001b[A\n",
      "\u001b[A\n",
      "\u001b[A\n",
      "\u001b[A\n",
      "\u001b[A\n",
      "\u001b[A\n",
      "\u001b[A\n",
      "\u001b[A\n",
      "\u001b[A\n",
      "\u001b[A\n",
      "\u001b[A\n",
      "\u001b[A\n",
      "\u001b[A\n",
      "\u001b[A\n",
      "\u001b[A\n",
      "\u001b[A\n",
      "\u001b[A\n",
      "\u001b[A\n",
      "\u001b[A\n",
      "\u001b[A\n",
      "\u001b[A\n",
      "\u001b[A\n",
      "\u001b[A\n",
      "batch LAVA: 100%|██████████| 2/2 [00:01<00:00,  1.01it/s]\n",
      "batch LAVA:  50%|█████     | 2/4 [00:03<00:03,  1.99s/it]\n",
      "\u001b[A\n",
      "\u001b[A\n",
      "\u001b[A\n",
      "\u001b[A\n",
      "\u001b[A\n",
      "\u001b[A\n",
      "\u001b[A\n",
      "\u001b[A\n",
      "\u001b[A\n",
      "\u001b[A\n",
      "\u001b[A\n",
      "\u001b[A\n",
      "\u001b[A\n",
      "\u001b[A\n",
      "\u001b[A\n",
      "\u001b[A\n",
      "\u001b[A\n",
      "\u001b[A\n",
      "\u001b[A\n",
      "\u001b[A\n",
      "\u001b[A\n",
      "\u001b[A\n",
      "\u001b[A\n",
      "\u001b[A\n",
      "\u001b[A\n",
      "\u001b[A\n",
      "\u001b[A\n",
      "batch LAVA: 100%|██████████| 2/2 [00:02<00:00,  1.13s/it]\n",
      "batch LAVA:  75%|███████▌  | 3/4 [00:06<00:02,  2.12s/it]\n",
      "\u001b[A\n",
      "\u001b[A\n",
      "\u001b[A\n",
      "\u001b[A\n",
      "\u001b[A\n",
      "\u001b[A\n",
      "\u001b[A\n",
      "\u001b[A\n",
      "\u001b[A\n",
      "\u001b[A\n",
      "\u001b[A\n",
      "\u001b[A\n",
      "\u001b[A\n",
      "\u001b[A\n",
      "\u001b[A\n",
      "\u001b[A\n",
      "\u001b[A\n",
      "\u001b[A\n",
      "\u001b[A\n",
      "\u001b[A\n",
      "\u001b[A\n",
      "\u001b[A\n",
      "\u001b[A\n",
      "batch LAVA: 100%|██████████| 2/2 [00:01<00:00,  1.13it/s]\n",
      "batch LAVA: 100%|██████████| 4/4 [00:08<00:00,  2.01s/it]\n"
     ]
    },
    {
     "name": "stdout",
     "output_type": "stream",
     "text": [
      "LavaEvaluator_batch42 completed in 8.05 seconds.\n",
      "Running evaluator: LavaEvaluator_batch43\n"
     ]
    },
    {
     "name": "stderr",
     "output_type": "stream",
     "text": [
      "batch LAVA:   0%|          | 0/2 [00:00<?, ?it/s]\n",
      "\u001b[A\n",
      "\u001b[A\n",
      "\u001b[A\n",
      "\u001b[A\n",
      "\u001b[A\n",
      "\u001b[A\n",
      "\u001b[A\n",
      "\u001b[A\n",
      "\u001b[A\n",
      "\u001b[A\n",
      "\u001b[A\n",
      "\u001b[A\n",
      "\u001b[A\n",
      "\u001b[A\n",
      "\u001b[A\n",
      "\u001b[A\n",
      "\u001b[A\n",
      "\u001b[A\n",
      "\u001b[A\n",
      "\u001b[A\n",
      "\u001b[A\n",
      "\u001b[A\n",
      "batch LAVA: 100%|██████████| 1/1 [00:02<00:00,  2.11s/it]\n",
      "batch LAVA:  50%|█████     | 1/2 [00:02<00:02,  2.13s/it]\n",
      "\u001b[A\n",
      "\u001b[A\n",
      "\u001b[A\n",
      "\u001b[A\n",
      "\u001b[A\n",
      "\u001b[A\n",
      "\u001b[A\n",
      "\u001b[A\n",
      "\u001b[A\n",
      "\u001b[A\n",
      "\u001b[A\n",
      "\u001b[A\n",
      "\u001b[A\n",
      "\u001b[A\n",
      "\u001b[A\n",
      "\u001b[A\n",
      "\u001b[A\n",
      "batch LAVA: 100%|██████████| 1/1 [00:01<00:00,  1.50s/it]\n",
      "batch LAVA: 100%|██████████| 2/2 [00:03<00:00,  1.82s/it]\n"
     ]
    },
    {
     "name": "stdout",
     "output_type": "stream",
     "text": [
      "LavaEvaluator_batch43 completed in 3.66 seconds.\n",
      "Running evaluator: LavaEvaluator_batchl2l44\n"
     ]
    },
    {
     "name": "stderr",
     "output_type": "stream",
     "text": [
      "batch LAVA: 100%|██████████| 2/2 [00:00<00:00, 21.64it/s]                           \n",
      "batch LAVA: 100%|██████████| 2/2 [00:00<00:00, 24.93it/s]\n",
      "batch LAVA: 100%|██████████| 2/2 [00:00<00:00, 30.24it/s]\n",
      "batch LAVA: 100%|██████████| 2/2 [00:00<00:00, 33.67it/s]\n",
      "batch LAVA: 100%|██████████| 4/4 [00:00<00:00, 10.96it/s]\n"
     ]
    },
    {
     "name": "stdout",
     "output_type": "stream",
     "text": [
      "LavaEvaluator_batchl2l44 completed in 2.04 seconds.\n",
      "Running evaluator: LavaEvaluator_batchl2l45\n"
     ]
    },
    {
     "name": "stderr",
     "output_type": "stream",
     "text": [
      "batch LAVA: 100%|██████████| 1/1 [00:00<00:00, 15.43it/s]                           \n",
      "batch LAVA: 100%|██████████| 1/1 [00:00<00:00, 16.60it/s]\n",
      "batch LAVA: 100%|██████████| 2/2 [00:00<00:00, 12.81it/s]\n"
     ]
    },
    {
     "name": "stdout",
     "output_type": "stream",
     "text": [
      "LavaEvaluator_batchl2l45 completed in 2.01 seconds.\n",
      "Running evaluator: LavaEvaluator_OT46\n"
     ]
    },
    {
     "name": "stderr",
     "output_type": "stream",
     "text": [
      "                                                                           \r"
     ]
    },
    {
     "name": "stdout",
     "output_type": "stream",
     "text": [
      "LavaEvaluator_OT46 completed in 0.73 seconds.\n",
      "Running evaluator: LavaEvaluator_geomloss47\n"
     ]
    },
    {
     "name": "stderr",
     "output_type": "stream",
     "text": [
      "                                                                                    \r"
     ]
    },
    {
     "name": "stdout",
     "output_type": "stream",
     "text": [
      "LavaEvaluator_geomloss47 completed in 1.38 seconds.\n"
     ]
    }
   ],
   "source": [
    "from base_evaluator import BaseEvaluator, KNNEvaluator,CKNNEvaluator ,LavaEvaluator_geomloss, LavaEvaluator_OT, ExperimentRunner, LavaEvaluator_batch, LavaEvaluator_batchl2l\n",
    "knn_evaluator = KNNEvaluator(Ismetric= 1)\n",
    "knn_evaluator1 = KNNEvaluator(Ismetric= 0)\n",
    "cknn_evaluator1 = CKNNEvaluator(k_neighbors= 10, T = 20, default=False)\n",
    "cknn_evaluator2 = CKNNEvaluator(k_neighbors = 10, T = 100, default=False)\n",
    "cknn_evaluator3 = CKNNEvaluator(k_neighbors = 10, T = 500, default=False)\n",
    "cknn_evaluator4 = CKNNEvaluator(k_neighbors = 10, T = 900, default=False)\n",
    "cknn_evaluator5 = CKNNEvaluator(k_neighbors = 10, T = 980, default=False)\n",
    "\n",
    "cknn_evaluator11 = CKNNEvaluator(k_neighbors = 3, T = 20, default=False)\n",
    "cknn_evaluator21 = CKNNEvaluator(k_neighbors = 3, T = 100, default=False)\n",
    "cknn_evaluator31 = CKNNEvaluator(k_neighbors = 3, T = 500, default=False)\n",
    "cknn_evaluator41 = CKNNEvaluator(k_neighbors = 3, T = 900, default=False)\n",
    "cknn_evaluator51 = CKNNEvaluator(k_neighbors = 3, T = 980, default=False)\n",
    "\n",
    "cknn_evaluator12 = CKNNEvaluator(k_neighbors = 5, T = 20, default=False)\n",
    "cknn_evaluator22 = CKNNEvaluator(k_neighbors = 5, T = 100, default=False)\n",
    "cknn_evaluator32 = CKNNEvaluator(k_neighbors = 5, T = 500, default=False)\n",
    "cknn_evaluator42 = CKNNEvaluator(k_neighbors = 5, T = 900, default=False)\n",
    "cknn_evaluator52 = CKNNEvaluator(k_neighbors = 5, T = 980, default=False)\n",
    "\n",
    "cknn_evaluator13 = CKNNEvaluator(k_neighbors = 8, T = 20, default=False)\n",
    "cknn_evaluator23 = CKNNEvaluator(k_neighbors = 8, T = 100, default=False)\n",
    "cknn_evaluator33 = CKNNEvaluator(k_neighbors = 8, T = 500, default=False)\n",
    "cknn_evaluator43 = CKNNEvaluator(k_neighbors = 8, T = 900, default=False)\n",
    "cknn_evaluator53 = CKNNEvaluator(k_neighbors = 8, T = 980, default=False)\n",
    "\n",
    "cknn_evaluator14 = CKNNEvaluator(k_neighbors = 15, T = 20, default=False)\n",
    "cknn_evaluator24 = CKNNEvaluator(k_neighbors = 15, T = 100, default=False)\n",
    "cknn_evaluator34 = CKNNEvaluator(k_neighbors = 15, T = 500, default=False)\n",
    "cknn_evaluator44 = CKNNEvaluator(k_neighbors = 15, T = 900, default=False)\n",
    "cknn_evaluator54 = CKNNEvaluator(k_neighbors = 15, T = 980, default=False)\n",
    "\n",
    "cknn_evaluator15 = CKNNEvaluator(k_neighbors = 20, T = 20, default=False)\n",
    "cknn_evaluator25 = CKNNEvaluator(k_neighbors = 20, T = 100, default=False)\n",
    "cknn_evaluator35 = CKNNEvaluator(k_neighbors = 20, T = 500, default=False)\n",
    "cknn_evaluator45 = CKNNEvaluator(k_neighbors = 20, T = 900, default=False)\n",
    "cknn_evaluator55 = CKNNEvaluator(k_neighbors = 20, T = 980, default=False)\n",
    "\n",
    "cknn_evaluator16 = CKNNEvaluator(k_neighbors = 40, T = 20, default=False)\n",
    "cknn_evaluator26 = CKNNEvaluator(k_neighbors = 40, T = 100, default=False)\n",
    "cknn_evaluator36 = CKNNEvaluator(k_neighbors = 40, T = 500, default=False)\n",
    "cknn_evaluator46 = CKNNEvaluator(k_neighbors = 40, T = 900, default=False)\n",
    "cknn_evaluator56 = CKNNEvaluator(k_neighbors = 40, T = 980, default=False)\n",
    "\n",
    "cknn_evaluator17 = CKNNEvaluator(k_neighbors = 50, T = 20, default=False)\n",
    "cknn_evaluator27 = CKNNEvaluator(k_neighbors = 50, T = 100, default=False)\n",
    "cknn_evaluator37 = CKNNEvaluator(k_neighbors = 50, T = 500, default=False)\n",
    "cknn_evaluator47 = CKNNEvaluator(k_neighbors = 50, T = 900, default=False)\n",
    "cknn_evaluator57 = CKNNEvaluator(k_neighbors = 50, T = 980, default=False)\n",
    "\n",
    "cknn_evaluator18 = CKNNEvaluator(k_neighbors = 100, T = 20, default=False)\n",
    "cknn_evaluator28 = CKNNEvaluator(k_neighbors = 100, T = 100, default=False)\n",
    "cknn_evaluator38 = CKNNEvaluator(k_neighbors = 100, T = 500, default=False)\n",
    "cknn_evaluator48 = CKNNEvaluator(k_neighbors = 100, T = 900, default=False)\n",
    "cknn_evaluator58 = CKNNEvaluator(k_neighbors = 100, T = 980, default=False)\n",
    "\n",
    "lava_evaluator_batch1 = LavaEvaluator_batch(batch = 256)\n",
    "lava_evaluator_batch2 = LavaEvaluator_batch(batch = 512)\n",
    "lava_evaluator_batchl2l1 = LavaEvaluator_batchl2l(batch = 256)\n",
    "lava_evaluator_batchl2l2 = LavaEvaluator_batchl2l(batch = 512)\n",
    "lava_evaluator_OT = LavaEvaluator_OT()\n",
    "lava_evaluator_geomloss = LavaEvaluator_geomloss()\n",
    "experiment = ExperimentRunner(evaluators=[knn_evaluator, knn_evaluator1, \n",
    "                                          cknn_evaluator1, cknn_evaluator2, cknn_evaluator3, cknn_evaluator4, cknn_evaluator5,\n",
    "                                          cknn_evaluator12, cknn_evaluator22, cknn_evaluator32, cknn_evaluator42, cknn_evaluator52,\n",
    "                                          cknn_evaluator13, cknn_evaluator23, cknn_evaluator33, cknn_evaluator43, cknn_evaluator53,\n",
    "                                          cknn_evaluator14, cknn_evaluator24, cknn_evaluator34, cknn_evaluator44, cknn_evaluator54,\n",
    "                                          cknn_evaluator15, cknn_evaluator25, cknn_evaluator35, cknn_evaluator45, cknn_evaluator55,\n",
    "                                          cknn_evaluator16, cknn_evaluator26, cknn_evaluator36, cknn_evaluator46, cknn_evaluator56,\n",
    "                                          cknn_evaluator17, cknn_evaluator27, cknn_evaluator37, cknn_evaluator47, cknn_evaluator57,\n",
    "                                          cknn_evaluator18, cknn_evaluator28, cknn_evaluator38, cknn_evaluator48, cknn_evaluator58,\n",
    "                                          lava_evaluator_batch1, lava_evaluator_batch2, lava_evaluator_batchl2l1, lava_evaluator_batchl2l2, \n",
    "                                          lava_evaluator_OT, lava_evaluator_geomloss])\n",
    "results = experiment.run(x_embeddings, y_labels, xt_embeddings, yt_labels)"
   ]
  },
  {
   "cell_type": "code",
   "execution_count": 10,
   "metadata": {},
   "outputs": [
    {
     "name": "stdout",
     "output_type": "stream",
     "text": [
      "KNNEvaluator0: {'F1-model': np.float64(0.695773588284814), 'Precision': 0.5766666666666667, 'Recall': 0.865, 'F1-Score': 0.692}\n",
      "KNNEvaluator1: {'F1-model': np.float64(0.6928370650983705), 'Precision': 0.58, 'Recall': 0.87, 'F1-Score': 0.696}\n",
      "CKNNEvaluator2: {'F1-model': np.float64(0.6948573702953865), 'Precision': 0.58, 'Recall': 0.87, 'F1-Score': 0.696}\n",
      "CKNNEvaluator3: {'F1-model': np.float64(0.6960304423225081), 'Precision': 0.58, 'Recall': 0.87, 'F1-Score': 0.696}\n",
      "CKNNEvaluator4: {'F1-model': np.float64(0.696508945022467), 'Precision': 0.5766666666666667, 'Recall': 0.865, 'F1-Score': 0.692}\n",
      "CKNNEvaluator5: {'F1-model': np.float64(0.7045425589024975), 'Precision': 0.56, 'Recall': 0.84, 'F1-Score': 0.6720000000000002}\n",
      "CKNNEvaluator6: {'F1-model': np.float64(0.6897119336805597), 'Precision': 0.4666666666666667, 'Recall': 0.7, 'F1-Score': 0.56}\n",
      "CKNNEvaluator7: {'F1-model': np.float64(0.6955239734764554), 'Precision': 0.58, 'Recall': 0.87, 'F1-Score': 0.696}\n",
      "CKNNEvaluator8: {'F1-model': np.float64(0.6878869068440869), 'Precision': 0.58, 'Recall': 0.87, 'F1-Score': 0.696}\n",
      "CKNNEvaluator9: {'F1-model': np.float64(0.6890075475340971), 'Precision': 0.5866666666666667, 'Recall': 0.88, 'F1-Score': 0.704}\n",
      "CKNNEvaluator10: {'F1-model': np.float64(0.694168026033122), 'Precision': 0.5566666666666666, 'Recall': 0.835, 'F1-Score': 0.6679999999999999}\n",
      "CKNNEvaluator11: {'F1-model': np.float64(0.6959025884890876), 'Precision': 0.47333333333333333, 'Recall': 0.71, 'F1-Score': 0.568}\n",
      "CKNNEvaluator12: {'F1-model': np.float64(0.6926015779569996), 'Precision': 0.58, 'Recall': 0.87, 'F1-Score': 0.696}\n",
      "CKNNEvaluator13: {'F1-model': np.float64(0.6926015779569996), 'Precision': 0.58, 'Recall': 0.87, 'F1-Score': 0.696}\n",
      "CKNNEvaluator14: {'F1-model': np.float64(0.7045204795544091), 'Precision': 0.5866666666666667, 'Recall': 0.88, 'F1-Score': 0.704}\n",
      "CKNNEvaluator15: {'F1-model': np.float64(0.718032644088682), 'Precision': 0.56, 'Recall': 0.84, 'F1-Score': 0.6720000000000002}\n",
      "CKNNEvaluator16: {'F1-model': np.float64(0.691498094749993), 'Precision': 0.47333333333333333, 'Recall': 0.71, 'F1-Score': 0.568}\n",
      "CKNNEvaluator17: {'F1-model': np.float64(0.7024498678214083), 'Precision': 0.5733333333333334, 'Recall': 0.86, 'F1-Score': 0.6880000000000001}\n",
      "CKNNEvaluator18: {'F1-model': np.float64(0.7023211840225486), 'Precision': 0.5733333333333334, 'Recall': 0.86, 'F1-Score': 0.6880000000000001}\n",
      "CKNNEvaluator19: {'F1-model': np.float64(0.6936473673145851), 'Precision': 0.57, 'Recall': 0.855, 'F1-Score': 0.684}\n",
      "CKNNEvaluator20: {'F1-model': np.float64(0.7029803019991823), 'Precision': 0.56, 'Recall': 0.84, 'F1-Score': 0.6720000000000002}\n",
      "CKNNEvaluator21: {'F1-model': np.float64(0.7039836197812186), 'Precision': 0.4766666666666667, 'Recall': 0.715, 'F1-Score': 0.572}\n",
      "CKNNEvaluator22: {'F1-model': np.float64(0.6994360786382301), 'Precision': 0.5733333333333334, 'Recall': 0.86, 'F1-Score': 0.6880000000000001}\n",
      "CKNNEvaluator23: {'F1-model': np.float64(0.7019674534505044), 'Precision': 0.5733333333333334, 'Recall': 0.86, 'F1-Score': 0.6880000000000001}\n",
      "CKNNEvaluator24: {'F1-model': np.float64(0.6973162538415278), 'Precision': 0.57, 'Recall': 0.855, 'F1-Score': 0.684}\n",
      "CKNNEvaluator25: {'F1-model': np.float64(0.6970095558649454), 'Precision': 0.56, 'Recall': 0.84, 'F1-Score': 0.6720000000000002}\n",
      "CKNNEvaluator26: {'F1-model': np.float64(0.6911918509068471), 'Precision': 0.4533333333333333, 'Recall': 0.68, 'F1-Score': 0.544}\n",
      "CKNNEvaluator27: {'F1-model': np.float64(0.6897907356548887), 'Precision': 0.5566666666666666, 'Recall': 0.835, 'F1-Score': 0.6679999999999999}\n",
      "CKNNEvaluator28: {'F1-model': np.float64(0.6912490442459877), 'Precision': 0.5566666666666666, 'Recall': 0.835, 'F1-Score': 0.6679999999999999}\n",
      "CKNNEvaluator29: {'F1-model': np.float64(0.6920287394736596), 'Precision': 0.5566666666666666, 'Recall': 0.835, 'F1-Score': 0.6679999999999999}\n",
      "CKNNEvaluator30: {'F1-model': np.float64(0.6954288751547202), 'Precision': 0.5533333333333333, 'Recall': 0.83, 'F1-Score': 0.664}\n",
      "CKNNEvaluator31: {'F1-model': np.float64(0.6911918509068471), 'Precision': 0.4533333333333333, 'Recall': 0.68, 'F1-Score': 0.544}\n",
      "CKNNEvaluator32: {'F1-model': np.float64(0.6968213067727107), 'Precision': 0.5466666666666666, 'Recall': 0.82, 'F1-Score': 0.6559999999999999}\n",
      "CKNNEvaluator33: {'F1-model': np.float64(0.6968213067727107), 'Precision': 0.5466666666666666, 'Recall': 0.82, 'F1-Score': 0.6559999999999999}\n",
      "CKNNEvaluator34: {'F1-model': np.float64(0.6932692018955652), 'Precision': 0.55, 'Recall': 0.825, 'F1-Score': 0.66}\n",
      "CKNNEvaluator35: {'F1-model': np.float64(0.6914645911752133), 'Precision': 0.5466666666666666, 'Recall': 0.82, 'F1-Score': 0.6559999999999999}\n",
      "CKNNEvaluator36: {'F1-model': np.float64(0.6911918509068471), 'Precision': 0.4533333333333333, 'Recall': 0.68, 'F1-Score': 0.544}\n",
      "CKNNEvaluator37: {'F1-model': np.float64(0.6188755745441744), 'Precision': 0.51, 'Recall': 0.765, 'F1-Score': 0.612}\n",
      "CKNNEvaluator38: {'F1-model': np.float64(0.6169554364280312), 'Precision': 0.51, 'Recall': 0.765, 'F1-Score': 0.612}\n",
      "CKNNEvaluator39: {'F1-model': np.float64(0.6116874524142519), 'Precision': 0.5333333333333333, 'Recall': 0.8, 'F1-Score': 0.64}\n",
      "CKNNEvaluator40: {'F1-model': np.float64(0.6867225929970644), 'Precision': 0.5266666666666666, 'Recall': 0.79, 'F1-Score': 0.632}\n",
      "CKNNEvaluator41: {'F1-model': np.float64(0.6911918509068471), 'Precision': 0.4533333333333333, 'Recall': 0.68, 'F1-Score': 0.544}\n",
      "LavaEvaluator_batch42: {'F1-model': np.float64(0.6621845926115483), 'Precision': 0.25666666666666665, 'Recall': 0.385, 'F1-Score': 0.308}\n",
      "LavaEvaluator_batch43: {'F1-model': np.float64(0.6526251729298409), 'Precision': 0.29, 'Recall': 0.435, 'F1-Score': 0.348}\n",
      "LavaEvaluator_batchl2l44: {'F1-model': np.float64(0.6493476404448607), 'Precision': 0.27, 'Recall': 0.405, 'F1-Score': 0.324}\n",
      "LavaEvaluator_batchl2l45: {'F1-model': np.float64(0.650444974988116), 'Precision': 0.2833333333333333, 'Recall': 0.425, 'F1-Score': 0.34}\n",
      "LavaEvaluator_OT46: {'F1-model': np.float64(0.6901473251343151), 'Precision': 0.36666666666666664, 'Recall': 0.55, 'F1-Score': 0.43999999999999995}\n",
      "LavaEvaluator_geomloss47: {'F1-model': np.float64(0.6580727719244661), 'Precision': 0.27666666666666667, 'Recall': 0.415, 'F1-Score': 0.332}\n"
     ]
    },
    {
     "data": {
      "text/plain": [
       "{'KNNEvaluator0': {'F1-model': np.float64(0.695773588284814),\n",
       "  'Precision': 0.5766666666666667,\n",
       "  'Recall': 0.865,\n",
       "  'F1-Score': 0.692},\n",
       " 'KNNEvaluator1': {'F1-model': np.float64(0.6928370650983705),\n",
       "  'Precision': 0.58,\n",
       "  'Recall': 0.87,\n",
       "  'F1-Score': 0.696},\n",
       " 'CKNNEvaluator2': {'F1-model': np.float64(0.6948573702953865),\n",
       "  'Precision': 0.58,\n",
       "  'Recall': 0.87,\n",
       "  'F1-Score': 0.696},\n",
       " 'CKNNEvaluator3': {'F1-model': np.float64(0.6960304423225081),\n",
       "  'Precision': 0.58,\n",
       "  'Recall': 0.87,\n",
       "  'F1-Score': 0.696},\n",
       " 'CKNNEvaluator4': {'F1-model': np.float64(0.696508945022467),\n",
       "  'Precision': 0.5766666666666667,\n",
       "  'Recall': 0.865,\n",
       "  'F1-Score': 0.692},\n",
       " 'CKNNEvaluator5': {'F1-model': np.float64(0.7045425589024975),\n",
       "  'Precision': 0.56,\n",
       "  'Recall': 0.84,\n",
       "  'F1-Score': 0.6720000000000002},\n",
       " 'CKNNEvaluator6': {'F1-model': np.float64(0.6897119336805597),\n",
       "  'Precision': 0.4666666666666667,\n",
       "  'Recall': 0.7,\n",
       "  'F1-Score': 0.56},\n",
       " 'CKNNEvaluator7': {'F1-model': np.float64(0.6955239734764554),\n",
       "  'Precision': 0.58,\n",
       "  'Recall': 0.87,\n",
       "  'F1-Score': 0.696},\n",
       " 'CKNNEvaluator8': {'F1-model': np.float64(0.6878869068440869),\n",
       "  'Precision': 0.58,\n",
       "  'Recall': 0.87,\n",
       "  'F1-Score': 0.696},\n",
       " 'CKNNEvaluator9': {'F1-model': np.float64(0.6890075475340971),\n",
       "  'Precision': 0.5866666666666667,\n",
       "  'Recall': 0.88,\n",
       "  'F1-Score': 0.704},\n",
       " 'CKNNEvaluator10': {'F1-model': np.float64(0.694168026033122),\n",
       "  'Precision': 0.5566666666666666,\n",
       "  'Recall': 0.835,\n",
       "  'F1-Score': 0.6679999999999999},\n",
       " 'CKNNEvaluator11': {'F1-model': np.float64(0.6959025884890876),\n",
       "  'Precision': 0.47333333333333333,\n",
       "  'Recall': 0.71,\n",
       "  'F1-Score': 0.568},\n",
       " 'CKNNEvaluator12': {'F1-model': np.float64(0.6926015779569996),\n",
       "  'Precision': 0.58,\n",
       "  'Recall': 0.87,\n",
       "  'F1-Score': 0.696},\n",
       " 'CKNNEvaluator13': {'F1-model': np.float64(0.6926015779569996),\n",
       "  'Precision': 0.58,\n",
       "  'Recall': 0.87,\n",
       "  'F1-Score': 0.696},\n",
       " 'CKNNEvaluator14': {'F1-model': np.float64(0.7045204795544091),\n",
       "  'Precision': 0.5866666666666667,\n",
       "  'Recall': 0.88,\n",
       "  'F1-Score': 0.704},\n",
       " 'CKNNEvaluator15': {'F1-model': np.float64(0.718032644088682),\n",
       "  'Precision': 0.56,\n",
       "  'Recall': 0.84,\n",
       "  'F1-Score': 0.6720000000000002},\n",
       " 'CKNNEvaluator16': {'F1-model': np.float64(0.691498094749993),\n",
       "  'Precision': 0.47333333333333333,\n",
       "  'Recall': 0.71,\n",
       "  'F1-Score': 0.568},\n",
       " 'CKNNEvaluator17': {'F1-model': np.float64(0.7024498678214083),\n",
       "  'Precision': 0.5733333333333334,\n",
       "  'Recall': 0.86,\n",
       "  'F1-Score': 0.6880000000000001},\n",
       " 'CKNNEvaluator18': {'F1-model': np.float64(0.7023211840225486),\n",
       "  'Precision': 0.5733333333333334,\n",
       "  'Recall': 0.86,\n",
       "  'F1-Score': 0.6880000000000001},\n",
       " 'CKNNEvaluator19': {'F1-model': np.float64(0.6936473673145851),\n",
       "  'Precision': 0.57,\n",
       "  'Recall': 0.855,\n",
       "  'F1-Score': 0.684},\n",
       " 'CKNNEvaluator20': {'F1-model': np.float64(0.7029803019991823),\n",
       "  'Precision': 0.56,\n",
       "  'Recall': 0.84,\n",
       "  'F1-Score': 0.6720000000000002},\n",
       " 'CKNNEvaluator21': {'F1-model': np.float64(0.7039836197812186),\n",
       "  'Precision': 0.4766666666666667,\n",
       "  'Recall': 0.715,\n",
       "  'F1-Score': 0.572},\n",
       " 'CKNNEvaluator22': {'F1-model': np.float64(0.6994360786382301),\n",
       "  'Precision': 0.5733333333333334,\n",
       "  'Recall': 0.86,\n",
       "  'F1-Score': 0.6880000000000001},\n",
       " 'CKNNEvaluator23': {'F1-model': np.float64(0.7019674534505044),\n",
       "  'Precision': 0.5733333333333334,\n",
       "  'Recall': 0.86,\n",
       "  'F1-Score': 0.6880000000000001},\n",
       " 'CKNNEvaluator24': {'F1-model': np.float64(0.6973162538415278),\n",
       "  'Precision': 0.57,\n",
       "  'Recall': 0.855,\n",
       "  'F1-Score': 0.684},\n",
       " 'CKNNEvaluator25': {'F1-model': np.float64(0.6970095558649454),\n",
       "  'Precision': 0.56,\n",
       "  'Recall': 0.84,\n",
       "  'F1-Score': 0.6720000000000002},\n",
       " 'CKNNEvaluator26': {'F1-model': np.float64(0.6911918509068471),\n",
       "  'Precision': 0.4533333333333333,\n",
       "  'Recall': 0.68,\n",
       "  'F1-Score': 0.544},\n",
       " 'CKNNEvaluator27': {'F1-model': np.float64(0.6897907356548887),\n",
       "  'Precision': 0.5566666666666666,\n",
       "  'Recall': 0.835,\n",
       "  'F1-Score': 0.6679999999999999},\n",
       " 'CKNNEvaluator28': {'F1-model': np.float64(0.6912490442459877),\n",
       "  'Precision': 0.5566666666666666,\n",
       "  'Recall': 0.835,\n",
       "  'F1-Score': 0.6679999999999999},\n",
       " 'CKNNEvaluator29': {'F1-model': np.float64(0.6920287394736596),\n",
       "  'Precision': 0.5566666666666666,\n",
       "  'Recall': 0.835,\n",
       "  'F1-Score': 0.6679999999999999},\n",
       " 'CKNNEvaluator30': {'F1-model': np.float64(0.6954288751547202),\n",
       "  'Precision': 0.5533333333333333,\n",
       "  'Recall': 0.83,\n",
       "  'F1-Score': 0.664},\n",
       " 'CKNNEvaluator31': {'F1-model': np.float64(0.6911918509068471),\n",
       "  'Precision': 0.4533333333333333,\n",
       "  'Recall': 0.68,\n",
       "  'F1-Score': 0.544},\n",
       " 'CKNNEvaluator32': {'F1-model': np.float64(0.6968213067727107),\n",
       "  'Precision': 0.5466666666666666,\n",
       "  'Recall': 0.82,\n",
       "  'F1-Score': 0.6559999999999999},\n",
       " 'CKNNEvaluator33': {'F1-model': np.float64(0.6968213067727107),\n",
       "  'Precision': 0.5466666666666666,\n",
       "  'Recall': 0.82,\n",
       "  'F1-Score': 0.6559999999999999},\n",
       " 'CKNNEvaluator34': {'F1-model': np.float64(0.6932692018955652),\n",
       "  'Precision': 0.55,\n",
       "  'Recall': 0.825,\n",
       "  'F1-Score': 0.66},\n",
       " 'CKNNEvaluator35': {'F1-model': np.float64(0.6914645911752133),\n",
       "  'Precision': 0.5466666666666666,\n",
       "  'Recall': 0.82,\n",
       "  'F1-Score': 0.6559999999999999},\n",
       " 'CKNNEvaluator36': {'F1-model': np.float64(0.6911918509068471),\n",
       "  'Precision': 0.4533333333333333,\n",
       "  'Recall': 0.68,\n",
       "  'F1-Score': 0.544},\n",
       " 'CKNNEvaluator37': {'F1-model': np.float64(0.6188755745441744),\n",
       "  'Precision': 0.51,\n",
       "  'Recall': 0.765,\n",
       "  'F1-Score': 0.612},\n",
       " 'CKNNEvaluator38': {'F1-model': np.float64(0.6169554364280312),\n",
       "  'Precision': 0.51,\n",
       "  'Recall': 0.765,\n",
       "  'F1-Score': 0.612},\n",
       " 'CKNNEvaluator39': {'F1-model': np.float64(0.6116874524142519),\n",
       "  'Precision': 0.5333333333333333,\n",
       "  'Recall': 0.8,\n",
       "  'F1-Score': 0.64},\n",
       " 'CKNNEvaluator40': {'F1-model': np.float64(0.6867225929970644),\n",
       "  'Precision': 0.5266666666666666,\n",
       "  'Recall': 0.79,\n",
       "  'F1-Score': 0.632},\n",
       " 'CKNNEvaluator41': {'F1-model': np.float64(0.6911918509068471),\n",
       "  'Precision': 0.4533333333333333,\n",
       "  'Recall': 0.68,\n",
       "  'F1-Score': 0.544},\n",
       " 'LavaEvaluator_batch42': {'F1-model': np.float64(0.6621845926115483),\n",
       "  'Precision': 0.25666666666666665,\n",
       "  'Recall': 0.385,\n",
       "  'F1-Score': 0.308},\n",
       " 'LavaEvaluator_batch43': {'F1-model': np.float64(0.6526251729298409),\n",
       "  'Precision': 0.29,\n",
       "  'Recall': 0.435,\n",
       "  'F1-Score': 0.348},\n",
       " 'LavaEvaluator_batchl2l44': {'F1-model': np.float64(0.6493476404448607),\n",
       "  'Precision': 0.27,\n",
       "  'Recall': 0.405,\n",
       "  'F1-Score': 0.324},\n",
       " 'LavaEvaluator_batchl2l45': {'F1-model': np.float64(0.650444974988116),\n",
       "  'Precision': 0.2833333333333333,\n",
       "  'Recall': 0.425,\n",
       "  'F1-Score': 0.34},\n",
       " 'LavaEvaluator_OT46': {'F1-model': np.float64(0.6901473251343151),\n",
       "  'Precision': 0.36666666666666664,\n",
       "  'Recall': 0.55,\n",
       "  'F1-Score': 0.43999999999999995},\n",
       " 'LavaEvaluator_geomloss47': {'F1-model': np.float64(0.6580727719244661),\n",
       "  'Precision': 0.27666666666666667,\n",
       "  'Recall': 0.415,\n",
       "  'F1-Score': 0.332}}"
      ]
     },
     "execution_count": 10,
     "metadata": {},
     "output_type": "execute_result"
    }
   ],
   "source": [
    "input_dim = x_embeddings.shape[1]\n",
    "num_classes = len(np.unique(y_labels))\n",
    "model = LogisticRegression(input_dim, num_classes)\n",
    "experiment.calculate_label_noise_20(model, noisy_train_indices, 0.3)"
   ]
  }
 ],
 "metadata": {
  "kernelspec": {
   "display_name": ".venv",
   "language": "python",
   "name": "python3"
  },
  "language_info": {
   "codemirror_mode": {
    "name": "ipython",
    "version": 3
   },
   "file_extension": ".py",
   "mimetype": "text/x-python",
   "name": "python",
   "nbconvert_exporter": "python",
   "pygments_lexer": "ipython3",
   "version": "3.12.0"
  }
 },
 "nbformat": 4,
 "nbformat_minor": 2
}
